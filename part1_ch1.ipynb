{
 "cells": [
  {
   "cell_type": "markdown",
   "id": "sensitive-cycle",
   "metadata": {
    "editable": true,
    "slideshow": {
     "slide_type": ""
    },
    "tags": []
   },
   "source": [
    "# <핵심만 요약한 데이터 조작과 시각화 파이썬 코드북>\n",
    "**각 코드를 설명하는 주석은 도서에서만 확인**할 수 있습니다. 성공적인 학습을 응원합니다.\n",
    "- ⓒ2024 AlgoBoni all rights reserved.\n",
    "- 본 컨텐츠의 저작권은 알고보니에 있습니다. 저작권법에 의해 보호를 받는 저작물이므로 무단 전재와 무단 복제를 금합니다.\n",
    "- 본 컨텐츠의 종이책은 [교보문고](https://product.kyobobook.co.kr/detail/S000213616715), [예스24](https://www.yes24.com/Product/Goods/128117125), [알라딘](https://www.aladin.co.kr/shop/wproduct.aspx?ItemId=341725290)에서 구매할 수 있습니다."
   ]
  },
  {
   "cell_type": "markdown",
   "id": "liable-manner",
   "metadata": {},
   "source": [
    "# 1부. 데이터 조작\n",
    "\n",
    "## 1장. 리스트\n",
    "### 1-1. 리스트 만들기: [ ]"
   ]
  },
  {
   "cell_type": "code",
   "execution_count": 1,
   "id": "sonic-border",
   "metadata": {},
   "outputs": [
    {
     "name": "stdout",
     "output_type": "stream",
     "text": [
      "['a', 'a', 'b', 'c', 'd', 'd', 'd', 'e', 'e', 'f']\n",
      ">>> len:  10\n",
      ">>> type:  <class 'list'>\n",
      "[10, 20, 30, 40, 50, 60, 70, 80, 90, 100]\n",
      "[['a', 'a', 'b', 'c', 'd', 'd', 'd', 'e', 'e', 'f'], [10, 20, 30, 40, 50, 60, 70, 80, 90, 100]]\n"
     ]
    }
   ],
   "source": [
    "alphabets = ['a', 'a', 'b', 'c', 'd', 'd', 'd', 'e', 'e', 'f']\n",
    "print(alphabets)\n",
    "print(\">>> len: \", len(alphabets))\n",
    "print(\">>> type: \", type(alphabets))\n",
    "\n",
    "numbers = [10, 20, 30, 40, 50, 60, 70, 80, 90, 100]\n",
    "print(numbers)\n",
    "\n",
    "AN = [alphabets, numbers]\n",
    "print(AN)"
   ]
  },
  {
   "cell_type": "code",
   "execution_count": 2,
   "id": "wrong-speaking",
   "metadata": {},
   "outputs": [
    {
     "name": "stdout",
     "output_type": "stream",
     "text": [
      "[10, 20, 30, 40, 50, 60, 70, 80, 90, 100]\n",
      "[1, 3, 5, 7, 9]\n"
     ]
    }
   ],
   "source": [
    "numbers2 = [ i for i in range(10, 110, 10) ]\n",
    "print(numbers2)\n",
    "\n",
    "numbers3 = [ i for i in range(1, 11, 2) ] \n",
    "print(numbers3)"
   ]
  },
  {
   "cell_type": "markdown",
   "id": "decimal-forge",
   "metadata": {},
   "source": [
    "### 1-2. 리스트 요소 추출하기\n",
    "### - 인덱싱과 슬라이싱"
   ]
  },
  {
   "cell_type": "code",
   "execution_count": 3,
   "id": "simple-palestine",
   "metadata": {},
   "outputs": [
    {
     "name": "stdout",
     "output_type": "stream",
     "text": [
      "a\n",
      "f\n"
     ]
    }
   ],
   "source": [
    "alphabets = ['a', 'a', 'b', 'c', 'd', 'd', 'd', 'e', 'e', 'f']\n",
    "numbers = [10, 20, 30, 40, 50, 60, 70, 80, 90, 100]\n",
    "\n",
    "print(alphabets[0])\n",
    "print(alphabets[-1])"
   ]
  },
  {
   "cell_type": "code",
   "execution_count": 4,
   "id": "moral-hamburg",
   "metadata": {},
   "outputs": [
    {
     "name": "stdout",
     "output_type": "stream",
     "text": [
      "['a', 'a', 'b', 'c', 'd', 'd', 'd', 'e', 'e', 'f']\n",
      "c\n"
     ]
    }
   ],
   "source": [
    "print(AN[0])\n",
    "print(AN[0][3])"
   ]
  },
  {
   "cell_type": "code",
   "execution_count": 5,
   "id": "physical-california",
   "metadata": {},
   "outputs": [
    {
     "name": "stdout",
     "output_type": "stream",
     "text": [
      "[20, 30, 40, 50, 60, 70, 80]\n",
      "[20, 40, 60, 80]\n"
     ]
    }
   ],
   "source": [
    "print(numbers[1:8])\n",
    "print(numbers[1:8:2])"
   ]
  },
  {
   "cell_type": "code",
   "execution_count": 7,
   "id": "robust-growth",
   "metadata": {},
   "outputs": [
    {
     "name": "stdout",
     "output_type": "stream",
     "text": [
      "[60, 70, 80, 90, 100]\n",
      "[10, 20, 30, 40, 50]\n"
     ]
    }
   ],
   "source": [
    "print(numbers[5:])\n",
    "print(numbers[:5])"
   ]
  },
  {
   "cell_type": "code",
   "execution_count": 8,
   "id": "marine-medium",
   "metadata": {},
   "outputs": [
    {
     "name": "stdout",
     "output_type": "stream",
     "text": [
      "[20, 40, 60, 80, 100]\n",
      "[10, 30, 50, 70, 90]\n",
      "[100, 90, 80, 70, 60, 50, 40, 30, 20, 10]\n",
      "[10, 20, 30, 40, 50, 60, 70, 80, 90, 100]\n"
     ]
    }
   ],
   "source": [
    "print(numbers[1::2])\n",
    "print(numbers[::2])\n",
    "print(numbers[::-1])\n",
    "print(numbers[:])"
   ]
  },
  {
   "cell_type": "markdown",
   "id": "inside-companion",
   "metadata": {},
   "source": [
    "### - 메서드로 추출: index, count"
   ]
  },
  {
   "cell_type": "code",
   "execution_count": 9,
   "id": "underlying-massachusetts",
   "metadata": {},
   "outputs": [
    {
     "name": "stdout",
     "output_type": "stream",
     "text": [
      "9\n",
      "0\n"
     ]
    }
   ],
   "source": [
    "alphabets = ['a', 'a', 'b', 'c', 'd', 'd', 'd', 'e', 'e', 'f']\n",
    "numbers = [10, 20, 30, 40, 50, 60, 70, 80, 90, 100]\n",
    "\n",
    "print(numbers.index(100)) \n",
    "print(alphabets.index('a')) "
   ]
  },
  {
   "cell_type": "code",
   "execution_count": 10,
   "id": "reported-concern",
   "metadata": {},
   "outputs": [
    {
     "ename": "ValueError",
     "evalue": "1 is not in list",
     "output_type": "error",
     "traceback": [
      "\u001b[0;31m---------------------------------------------------------------------------\u001b[0m",
      "\u001b[0;31mValueError\u001b[0m                                Traceback (most recent call last)",
      "\u001b[0;32m<ipython-input-10-b75bee46121c>\u001b[0m in \u001b[0;36m<module>\u001b[0;34m\u001b[0m\n\u001b[0;32m----> 1\u001b[0;31m \u001b[0mnumbers\u001b[0m\u001b[0;34m.\u001b[0m\u001b[0mindex\u001b[0m\u001b[0;34m(\u001b[0m\u001b[0;36m1\u001b[0m\u001b[0;34m)\u001b[0m\u001b[0;34m\u001b[0m\u001b[0;34m\u001b[0m\u001b[0m\n\u001b[0m",
      "\u001b[0;31mValueError\u001b[0m: 1 is not in list"
     ]
    }
   ],
   "source": [
    "numbers.index(1)"
   ]
  },
  {
   "cell_type": "code",
   "execution_count": 11,
   "id": "oriented-calcium",
   "metadata": {},
   "outputs": [
    {
     "name": "stdout",
     "output_type": "stream",
     "text": [
      "1\n",
      "2\n"
     ]
    }
   ],
   "source": [
    "print(numbers.count(100)) \n",
    "print(alphabets.count('a')) "
   ]
  },
  {
   "cell_type": "markdown",
   "id": "important-terror",
   "metadata": {},
   "source": [
    "### 1-3. 리스트 편집하기\n",
    "### - 추가하기: append, extend, +[ ], insert "
   ]
  },
  {
   "cell_type": "code",
   "execution_count": 12,
   "id": "handled-darwin",
   "metadata": {},
   "outputs": [
    {
     "name": "stdout",
     "output_type": "stream",
     "text": [
      "[10, 20, 30, 40, 50] \n",
      "\n",
      "[10, 20, 30, 40, 50, 60]\n",
      "[10, 20, 30, 40, 50, 60, 70, 80]\n",
      "[10, 20, 30, 40, 50, 60, 70, 80, 90, 100]\n",
      "['zero', 10, 20, 30, 40, 50, 60, 70, 80, 90, 100]\n"
     ]
    }
   ],
   "source": [
    "numbers = [10, 20, 30, 40, 50]\n",
    "print(numbers, \"\\n\") \n",
    "\n",
    "numbers.append(60) \n",
    "print(numbers)\n",
    "\n",
    "numbers.extend([70, 80])\n",
    "print(numbers)\n",
    "\n",
    "numbers = numbers + [90, 100] \n",
    "print(numbers)\n",
    "\n",
    "numbers.insert(0, 'zero')\n",
    "print(numbers)"
   ]
  },
  {
   "cell_type": "code",
   "execution_count": 13,
   "id": "ready-teach",
   "metadata": {},
   "outputs": [
    {
     "name": "stdout",
     "output_type": "stream",
     "text": [
      "['zero', 10, 20, 30, 40, 50, 60, 70, 80, 90, 100, ['three', 'four']]\n",
      "['zero', 10, 20, 30, 40, 50, 60, 70, 80, 90, 100, ['one', 'two'], ['three', 'four']]\n"
     ]
    }
   ],
   "source": [
    "numbers.append(['three', 'four'])\n",
    "print(numbers)\n",
    "\n",
    "numbers.insert(11, ['one', 'two'])\n",
    "print(numbers)"
   ]
  },
  {
   "cell_type": "markdown",
   "id": "established-material",
   "metadata": {},
   "source": [
    "### - 수정하기: 인덱싱과 슬라이싱"
   ]
  },
  {
   "cell_type": "code",
   "execution_count": 14,
   "id": "intended-unemployment",
   "metadata": {},
   "outputs": [
    {
     "name": "stdout",
     "output_type": "stream",
     "text": [
      "[0, 10, 20, 30, 40, 50, 60, 70, 80, 90, 100, ['one', 'two'], ['three']]\n",
      "[0, 10, 20, 30, 40, 50, 60, 70, 80, 90, 100, ['one', 'two'], 3]\n",
      "[0, 10, 20, 30, 40, 50, 60, 70, 80, 90, 100, [1, 2], 3]\n",
      "[0, 'ten', 'twenty', 'thirty', 40, 50, 60, 70, 80, 90, 100, [1, 2], 3]\n"
     ]
    }
   ],
   "source": [
    "numbers = ['zero', 10, 20, 30, 40, 50, 60, 70, 80, 90, 100, ['one', 'two'], ['three']]\n",
    "\n",
    "numbers[0] = 0 \n",
    "print(numbers)\n",
    "\n",
    "numbers[-1] = 3  \n",
    "print(numbers)\n",
    "\n",
    "numbers[-2][0] = 1 \n",
    "numbers[11][1] = 2 \n",
    "print(numbers)\n",
    "\n",
    "numbers[1:4] = 'ten', 'twenty', 'thirty'\n",
    "print(numbers)"
   ]
  },
  {
   "cell_type": "markdown",
   "id": "scenic-voltage",
   "metadata": {},
   "source": [
    "### - 삭제하기: pop, remove, set & list"
   ]
  },
  {
   "cell_type": "code",
   "execution_count": 15,
   "id": "rural-sweden",
   "metadata": {},
   "outputs": [
    {
     "name": "stdout",
     "output_type": "stream",
     "text": [
      "ten\n",
      "['twenty', 'thirty', 'fourty', 'fourty', 'fourty', 'fifty', 'fifty']\n",
      "['thirty', 'fourty', 'fourty', 'fourty', 'fifty', 'fifty']\n",
      "['thirty', 'fifty', 'fourty']\n"
     ]
    }
   ],
   "source": [
    "numbers = ['ten', 'twenty', 'thirty', 'fourty', 'fourty', 'fourty', 'fifty', 'fifty']\n",
    "\n",
    "deleted_element = numbers.pop(0)\n",
    "print(deleted_element) \n",
    "print(numbers) \n",
    "\n",
    "numbers.remove('twenty') \n",
    "print(numbers) \n",
    "\n",
    "set_list = list(set(numbers))\n",
    "print(set_list) "
   ]
  },
  {
   "cell_type": "markdown",
   "id": "handmade-field",
   "metadata": {},
   "source": [
    "### 1-4. 리스트와 유용한 메서드들\n",
    "### - 정렬/역정렬 하기: sort, reverse "
   ]
  },
  {
   "cell_type": "code",
   "execution_count": 16,
   "id": "alone-attachment",
   "metadata": {},
   "outputs": [
    {
     "name": "stdout",
     "output_type": "stream",
     "text": [
      "['a', 'b', 'c', 'd', 'e', 'f']\n",
      "['f', 'e', 'd', 'c', 'b', 'a']\n",
      "['a', 'b', 'c', 'd', 'e', 'f']\n",
      "[4, 2, 5, 3, 1]\n",
      "[1, 2, 3, 4, 5]\n"
     ]
    }
   ],
   "source": [
    "alphabets = ['f', 'e', 'c', 'a', 'd', 'b']\n",
    "alphabets.sort(reverse=False) \n",
    "print(alphabets)\n",
    "alphabets.sort(reverse=True) \n",
    "print(alphabets)\n",
    "alphabets.reverse() \n",
    "print(alphabets)\n",
    "\n",
    "numbers = [1,3,5,2,4]\n",
    "numbers.reverse()\n",
    "print(numbers)\n",
    "numbers.sort()\n",
    "print(numbers) "
   ]
  },
  {
   "cell_type": "markdown",
   "id": "prime-ireland",
   "metadata": {},
   "source": [
    "### - 리스트와 문자열 간 변환: split, join"
   ]
  },
  {
   "cell_type": "code",
   "execution_count": 17,
   "id": "english-residence",
   "metadata": {},
   "outputs": [
    {
     "name": "stdout",
     "output_type": "stream",
     "text": [
      "['a', 'b', 'c', 'd', 'e']\n",
      "a-b-c-d-e\n"
     ]
    }
   ],
   "source": [
    "string = 'a,b,c,d,e'\n",
    "StoL = string.split(',') \n",
    "print(StoL)\n",
    "LtoS = '-'.join(StoL) \n",
    "print(LtoS)"
   ]
  },
  {
   "cell_type": "markdown",
   "id": "significant-gibson",
   "metadata": {},
   "source": [
    "### 1-5. 기타 데이터 구조와 비교\n",
    "### - 리스트와 튜플"
   ]
  },
  {
   "cell_type": "code",
   "execution_count": 18,
   "id": "structured-treatment",
   "metadata": {},
   "outputs": [
    {
     "name": "stdout",
     "output_type": "stream",
     "text": [
      "(1, 2, 3, 4, 5)\n",
      ">>> type:  <class 'tuple'>\n",
      "1\n",
      "(2, 3, 4)\n",
      "1 2 3 4 5\n",
      "x = 20\n",
      "y = 10\n"
     ]
    }
   ],
   "source": [
    "tuple1 = (1, 2, 3, 4, 5)\n",
    "print(tuple1)\n",
    "print(\">>> type: \", type(tuple1))\n",
    "\n",
    "print(tuple1[0])  \n",
    "print(tuple1[1:4])  \n",
    "\n",
    "a, b, c, d, e = tuple1\n",
    "print(a, b, c, d, e) \n",
    "\n",
    "x = 10\n",
    "y = 20\n",
    "(x, y) = (y, x)\n",
    "print(\"x =\", x) \n",
    "print(\"y =\", y)  "
   ]
  },
  {
   "cell_type": "markdown",
   "id": "private-cable",
   "metadata": {},
   "source": [
    "### - 리스트와 셋"
   ]
  },
  {
   "cell_type": "code",
   "execution_count": 19,
   "id": "superb-probability",
   "metadata": {},
   "outputs": [
    {
     "name": "stdout",
     "output_type": "stream",
     "text": [
      "set1 {1, 2, 3, 4, 5}\n",
      ">>> type:  <class 'set'>\n",
      "set2 {1, 2, 3, 4, 5}\n",
      "set2.add(6) {1, 2, 3, 4, 5, 6}\n",
      "set2.remove() or discard() {4, 5, 6}\n"
     ]
    }
   ],
   "source": [
    "set1 = {1, 2, 3, 4, 5}\n",
    "print('set1', set1) \n",
    "print(\">>> type: \", type(set1))\n",
    "\n",
    "set2 = {1, 2, 3, 4, 5, 1, 2, 3} \n",
    "print('set2', set2) \n",
    "\n",
    "set2.add(6)\n",
    "print('set2.add(6)', set2) \n",
    "\n",
    "set2.remove(1)\n",
    "set2.discard(2)\n",
    "set2.remove(3)\n",
    "print('set2.remove() or discard()', set2)"
   ]
  },
  {
   "cell_type": "code",
   "execution_count": 20,
   "id": "several-malpractice",
   "metadata": {},
   "outputs": [
    {
     "name": "stdout",
     "output_type": "stream",
     "text": [
      "{1, 2, 3, 4, 5}\n",
      "{4, 5, 6}\n",
      "union {1, 2, 3, 4, 5, 6}\n",
      "intersection {4, 5}\n",
      "difference {1, 2, 3}\n"
     ]
    }
   ],
   "source": [
    "print(set1)\n",
    "print(set2)\n",
    "\n",
    "uni_set = set1.union(set2)\n",
    "inter_set = set1.intersection(set2)\n",
    "diff_set = set1.difference(set2)\n",
    "print('union', uni_set)\n",
    "print('intersection', inter_set)\n",
    "print('difference', diff_set)"
   ]
  },
  {
   "cell_type": "markdown",
   "id": "dutch-pathology",
   "metadata": {},
   "source": [
    "### - 리스트와 문자열"
   ]
  },
  {
   "cell_type": "code",
   "execution_count": 21,
   "id": "subjective-rates",
   "metadata": {},
   "outputs": [
    {
     "name": "stdout",
     "output_type": "stream",
     "text": [
      ">>> type:  <class 'str'>\n",
      " \n",
      " num\n",
      "1 2 3 4 5\n",
      " numbers 12345\n",
      "123451234512345\n"
     ]
    }
   ],
   "source": [
    "string1 = \" numbers \" \n",
    "string2 = '12345'\n",
    "print(\">>> type: \", type(string1))\n",
    "\n",
    "print(string1[0])\n",
    "print(string1[0:4])  \n",
    "\n",
    "a, b, c, d, e = string2\n",
    "print(a, b, c, d, e)\n",
    "print(string1 + string2)\n",
    "print(string2 * 3)"
   ]
  },
  {
   "cell_type": "code",
   "execution_count": 22,
   "id": "boolean-reach",
   "metadata": {},
   "outputs": [
    {
     "name": "stdout",
     "output_type": "stream",
     "text": [
      "numbers\n",
      " NUMBERS \n",
      " numbers \n",
      "*numbers*\n"
     ]
    }
   ],
   "source": [
    "strip_string = string1.strip()  \n",
    "print(strip_string)\n",
    "\n",
    "upper_string = string1.upper() \n",
    "print(upper_string)\n",
    "\n",
    "lower_string = string1.lower()\n",
    "print(lower_string)\n",
    "\n",
    "replace_string = string1.replace(' ', '*') \n",
    "print(replace_string)"
   ]
  },
  {
   "cell_type": "code",
   "execution_count": 16,
   "id": "social-times",
   "metadata": {},
   "outputs": [
    {
     "name": "stdout",
     "output_type": "stream",
     "text": [
      "I like apple.\n",
      "I like apple and banana.\n",
      "The answer is 0.12\n"
     ]
    }
   ],
   "source": [
    "fruits = ['apple', 'banana', 'orange']\n",
    "floats = [0.123, 0.321, 0.12345]\n",
    "\n",
    "print(\"I like {}.\".format(fruits[0]))\n",
    "print(\"I like {} and {}.\".format(fruits[0], fruits[1]))\n",
    "print(\"The answer is {:.2f}\".format(floats[0])) "
   ]
  },
  {
   "cell_type": "code",
   "execution_count": 17,
   "id": "derived-ecology",
   "metadata": {},
   "outputs": [
    {
     "name": "stdout",
     "output_type": "stream",
     "text": [
      "I like apple and orange.\n",
      "The answer is 0.32 & 0.123\n"
     ]
    }
   ],
   "source": [
    "print(f\"I like {fruits[0]} and {fruits[2]}.\")\n",
    "print(f\"The answer is {floats[1]:.2f} & {floats[0]}\")"
   ]
  },
  {
   "cell_type": "code",
   "execution_count": 18,
   "id": "front-vampire",
   "metadata": {},
   "outputs": [
    {
     "name": "stdout",
     "output_type": "stream",
     "text": [
      "I like banana and orange.\n",
      "The answer is 0.123\n"
     ]
    }
   ],
   "source": [
    "print(\"I like %s and %s.\" %(fruits[1], fruits[2])) \n",
    "print(\"The answer is %.3f\" %(floats[2])) "
   ]
  },
  {
   "cell_type": "markdown",
   "id": "satisfactory-baseball",
   "metadata": {},
   "source": [
    "## 연습문제"
   ]
  },
  {
   "cell_type": "markdown",
   "id": "collectible-telescope",
   "metadata": {},
   "source": [
    "### 1. 다음 보기와 같이 문자열인 7개의 요일을 요소로 갖는 리스트를 생성하고 days1이라는 변수에 담아 출력하시오."
   ]
  },
  {
   "cell_type": "code",
   "execution_count": null,
   "id": "imposed-duration",
   "metadata": {},
   "outputs": [],
   "source": []
  },
  {
   "cell_type": "markdown",
   "id": "sacred-celebration",
   "metadata": {},
   "source": [
    "### 2. 리스트 days1의 각 요소에서 ‘day’를 삭제한 값을 요소로 갖는 리스트 days2를 출력하시오."
   ]
  },
  {
   "cell_type": "code",
   "execution_count": null,
   "id": "persistent-filename",
   "metadata": {},
   "outputs": [],
   "source": []
  },
  {
   "cell_type": "markdown",
   "id": "incomplete-valuation",
   "metadata": {},
   "source": [
    "### 3. 다음 보기와 같이 리스트 days1의 각 요소의 앞 세글자를 추출하여 대문자로 변환한 값을 요소로 갖는 리스트 days3를 출력하시오."
   ]
  },
  {
   "cell_type": "code",
   "execution_count": null,
   "id": "expressed-orbit",
   "metadata": {},
   "outputs": [],
   "source": []
  },
  {
   "cell_type": "markdown",
   "id": "critical-management",
   "metadata": {},
   "source": [
    "### 4. 리스트 days1에 앞서 생성한 리스트 days2와 days3의 요소를 추가하여 리스트 days를 생성하고 출력하시오."
   ]
  },
  {
   "cell_type": "code",
   "execution_count": null,
   "id": "fluid-international",
   "metadata": {},
   "outputs": [],
   "source": []
  },
  {
   "cell_type": "markdown",
   "id": "rolled-mainstream",
   "metadata": {},
   "source": [
    "### 5. 리스트 days의 요소들을 하나의 문자열로 변환하여 string이라는 변수에 담아 출력하시오. (단, 요소들 사이에는 분할문자나 공백이 없도록 연결할 것)"
   ]
  },
  {
   "cell_type": "code",
   "execution_count": null,
   "id": "prerequisite-arnold",
   "metadata": {},
   "outputs": [],
   "source": []
  },
  {
   "cell_type": "markdown",
   "id": "juvenile-marathon",
   "metadata": {},
   "source": [
    "### 6. 문자열 string의 한개의 알파벳을 한개의 요소로 갖는 리스트 alphabets를 생성하고 이 리스트의 크기를 출력하시오."
   ]
  },
  {
   "cell_type": "code",
   "execution_count": null,
   "id": "talented-gravity",
   "metadata": {},
   "outputs": [],
   "source": []
  },
  {
   "cell_type": "markdown",
   "id": "falling-latex",
   "metadata": {},
   "source": [
    "### 7. 리스트 alphabets의 요소 중, 'a'가 몇개인지 출력하시오."
   ]
  },
  {
   "cell_type": "code",
   "execution_count": null,
   "id": "stone-barbados",
   "metadata": {},
   "outputs": [],
   "source": []
  },
  {
   "cell_type": "markdown",
   "id": "agreed-saudi",
   "metadata": {},
   "source": [
    "### 8. 리스트 alphabets의 요소를 오름차순으로 정렬하고, 리스트를 출력하시오."
   ]
  },
  {
   "cell_type": "code",
   "execution_count": null,
   "id": "connected-nursing",
   "metadata": {},
   "outputs": [],
   "source": []
  },
  {
   "cell_type": "markdown",
   "id": "molecular-advancement",
   "metadata": {},
   "source": [
    "### 9. 정렬된 리스트 alphabets의 요소 중, 'a'의 첫번째 인덱스를 출력하시오."
   ]
  },
  {
   "cell_type": "code",
   "execution_count": null,
   "id": "empty-dynamics",
   "metadata": {},
   "outputs": [],
   "source": []
  },
  {
   "cell_type": "markdown",
   "id": "historic-taste",
   "metadata": {},
   "source": [
    "### 10. 정렬된 리스트 alphabets의 요소들 중, 소문자 요소들은 변수 lower에, 대문자 요소들은 변수 upper에 각각 담고 출력하시오."
   ]
  },
  {
   "cell_type": "code",
   "execution_count": null,
   "id": "streaming-vegetarian",
   "metadata": {},
   "outputs": [],
   "source": []
  }
 ],
 "metadata": {
  "kernelspec": {
   "display_name": "Python 3",
   "language": "python",
   "name": "python3"
  },
  "language_info": {
   "codemirror_mode": {
    "name": "ipython",
    "version": 3
   },
   "file_extension": ".py",
   "mimetype": "text/x-python",
   "name": "python",
   "nbconvert_exporter": "python",
   "pygments_lexer": "ipython3",
   "version": "3.8.8"
  },
  "toc-showmarkdowntxt": false,
  "toc-showtags": false
 },
 "nbformat": 4,
 "nbformat_minor": 5
}

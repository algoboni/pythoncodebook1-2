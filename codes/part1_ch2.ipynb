{
 "cells": [
  {
   "cell_type": "markdown",
   "id": "brave-marshall",
   "metadata": {
    "editable": true,
    "slideshow": {
     "slide_type": ""
    },
    "tags": []
   },
   "source": [
    "# <핵심만 요약한 데이터 조작과 시각화 파이썬 코드북>\n",
    "**각 코드를 설명하는 주석과 연습문제 풀이는 도서에서 확인**할 수 있습니다. 성공적인 학습을 응원합니다.\n",
    "- ⓒ2024 AlgoBoni all rights reserved.\n",
    "- 본 컨텐츠의 저작권은 알고보니에 있습니다. 저작권법에 의해 보호를 받는 저작물이므로 무단 전재와 무단 복제를 금합니다.\n",
    "- 본 컨텐츠의 종이책은 [교보문고](https://product.kyobobook.co.kr/detail/S000213616715), [예스24](https://www.yes24.com/Product/Goods/128117125), [알라딘](https://www.aladin.co.kr/shop/wproduct.aspx?ItemId=341725290)에서 구매할 수 있습니다."
   ]
  },
  {
   "cell_type": "markdown",
   "id": "experienced-pointer",
   "metadata": {},
   "source": [
    "## 2장. 딕셔너리"
   ]
  },
  {
   "cell_type": "markdown",
   "id": "approximate-miracle",
   "metadata": {},
   "source": [
    "### 2-1. 딕셔너리 만들기: { }, dict"
   ]
  },
  {
   "cell_type": "code",
   "execution_count": 49,
   "id": "lovely-baptist",
   "metadata": {},
   "outputs": [
    {
     "name": "stdout",
     "output_type": "stream",
     "text": [
      "{'number': 3, 'fruit': 1, 'color': 2}\n",
      ">>> type:  <class 'dict'> \n",
      "\n",
      "{'number': [1, 2, 3], 'fruit': ['apple'], 'color': ['white', 'black']}\n"
     ]
    }
   ],
   "source": [
    "dict1 = {'number':3, 'fruit':1, 'color': 2}\n",
    "print(dict1)\n",
    "print(\">>> type: \", type(dict1), \"\\n\")\n",
    "\n",
    "dict2 = {'number':[1,2,3], 'fruit':['apple'], 'color':['white', 'black']}\n",
    "print(dict2)"
   ]
  },
  {
   "cell_type": "code",
   "execution_count": 50,
   "id": "seeing-discussion",
   "metadata": {},
   "outputs": [
    {
     "name": "stdout",
     "output_type": "stream",
     "text": [
      "{'number': 3, 'fruit': 1, 'color': 2}\n"
     ]
    }
   ],
   "source": [
    "dict3 = dict(number=3, fruit=1, color=2)\n",
    "print(dict3)"
   ]
  },
  {
   "cell_type": "code",
   "execution_count": 51,
   "id": "present-printing",
   "metadata": {},
   "outputs": [
    {
     "name": "stdout",
     "output_type": "stream",
     "text": [
      "{'number': 3, 'fruit': 1, 'color': 2}\n"
     ]
    }
   ],
   "source": [
    "dict4 = dict([('number', 3), ('fruit', 1), ('color', 2)])\n",
    "print(dict4)"
   ]
  },
  {
   "cell_type": "code",
   "execution_count": 52,
   "id": "strong-working",
   "metadata": {},
   "outputs": [
    {
     "name": "stdout",
     "output_type": "stream",
     "text": [
      "{'number': 3, 'fruit': 1, 'color': 2}\n"
     ]
    }
   ],
   "source": [
    "dict5 = dict(zip(['number', 'fruit', 'color'], [3,1,2]))\n",
    "print(dict5)"
   ]
  },
  {
   "cell_type": "markdown",
   "id": "written-logan",
   "metadata": {},
   "source": [
    "### 2-2. 딕셔너리 저장하기 및 불러오기\n",
    "### - 저장하기: 텍스트 파일 저장하기, json.dump"
   ]
  },
  {
   "cell_type": "code",
   "execution_count": 53,
   "id": "therapeutic-auction",
   "metadata": {},
   "outputs": [],
   "source": [
    "dict1 = {'number':3, 'fruit':1, 'color': 2}\n",
    "\n",
    "with open(\"./dict1.txt\", 'w') as f: \n",
    "    for key, value in dict1.items(): \n",
    "        f.write(f'{key}:{value}\\n')"
   ]
  },
  {
   "cell_type": "code",
   "execution_count": 54,
   "id": "transsexual-census",
   "metadata": {},
   "outputs": [],
   "source": [
    "import json\n",
    "dict2 = {'number':[1,2,3], 'fruit':['apple'], 'color':['white', 'black']}\n",
    "\n",
    "with open(\"./dict2.json\", 'w') as f:\n",
    "    json.dump(dict2, f)"
   ]
  },
  {
   "cell_type": "markdown",
   "id": "retired-safety",
   "metadata": {},
   "source": [
    "### - 불러오기: 텍스트 파일 불러오기, json.load"
   ]
  },
  {
   "cell_type": "code",
   "execution_count": 55,
   "id": "micro-bottle",
   "metadata": {},
   "outputs": [
    {
     "name": "stdout",
     "output_type": "stream",
     "text": [
      "{'number': '3', 'fruit': '1', 'color': '2'}\n"
     ]
    }
   ],
   "source": [
    "load_dict = {} \n",
    "with open(\"./dict1.txt\", 'r') as f: \n",
    "    for line in f: \n",
    "        key, value = line.strip().split(':') \n",
    "        load_dict[key] = value\n",
    "        \n",
    "print(load_dict)"
   ]
  },
  {
   "cell_type": "code",
   "execution_count": 56,
   "id": "aware-mason",
   "metadata": {},
   "outputs": [
    {
     "name": "stdout",
     "output_type": "stream",
     "text": [
      "{'number': [1, 2, 3], 'fruit': ['apple'], 'color': ['white', 'black']}\n"
     ]
    }
   ],
   "source": [
    "import json\n",
    "load_dict2 = {} \n",
    "with open(\"./dict2.json\", 'r') as f:\n",
    "    load_dict2 = json.load(f)\n",
    "\n",
    "print(load_dict2)"
   ]
  },
  {
   "cell_type": "markdown",
   "id": "included-september",
   "metadata": {},
   "source": [
    "### 2-3. 딕셔너리 요소 추출하기: { }['key'], get, keys, values, items"
   ]
  },
  {
   "cell_type": "code",
   "execution_count": 74,
   "id": "written-welding",
   "metadata": {},
   "outputs": [
    {
     "name": "stdout",
     "output_type": "stream",
     "text": [
      "3\n",
      "1\n"
     ]
    }
   ],
   "source": [
    "dict1 = {'number':3, 'fruit':1, 'color': 2}\n",
    "print(dict1['number'])\n",
    "print(dict1['fruit'])"
   ]
  },
  {
   "cell_type": "code",
   "execution_count": 58,
   "id": "hungry-charm",
   "metadata": {},
   "outputs": [
    {
     "name": "stdout",
     "output_type": "stream",
     "text": [
      "3\n",
      "0\n",
      "None\n"
     ]
    }
   ],
   "source": [
    "print(dict1.get('number'))\n",
    "print(dict1.get('what', 0)) \n",
    "print(dict1.get('what')) "
   ]
  },
  {
   "cell_type": "code",
   "execution_count": 70,
   "id": "taken-ancient",
   "metadata": {},
   "outputs": [
    {
     "name": "stdout",
     "output_type": "stream",
     "text": [
      "dict_keys(['number', 'fruit', 'color'])\n",
      "dict_values([3, 1, 2])\n",
      "dict_items([('number', 3), ('fruit', 1), ('color', 2)])\n"
     ]
    }
   ],
   "source": [
    "print(dict1.keys())\n",
    "print(dict1.values())\n",
    "print(dict1.items())"
   ]
  },
  {
   "cell_type": "code",
   "execution_count": 75,
   "id": "written-watershed",
   "metadata": {},
   "outputs": [
    {
     "name": "stdout",
     "output_type": "stream",
     "text": [
      "color\n",
      "('number', 3)\n"
     ]
    }
   ],
   "source": [
    "print(list(dict1.keys())[-1])\n",
    "print(list(dict1.items())[0])"
   ]
  },
  {
   "cell_type": "markdown",
   "id": "associate-criterion",
   "metadata": {},
   "source": [
    "### 2-4. 딕셔너리 편집하기"
   ]
  },
  {
   "cell_type": "markdown",
   "id": "strong-highlight",
   "metadata": {},
   "source": [
    "### - 추가하기: { }['new key'] = new value, update"
   ]
  },
  {
   "cell_type": "code",
   "execution_count": 78,
   "id": "mysterious-dining",
   "metadata": {},
   "outputs": [
    {
     "name": "stdout",
     "output_type": "stream",
     "text": [
      "{'chicken': 2, 'dog': 4, 'cat': 4, 'spider': 8}\n",
      "{'chicken': 2, 'dog': 4, 'cat': 4, 'spider': 8, 'whale': 2}\n"
     ]
    }
   ],
   "source": [
    "animals = {'chicken':2, 'dog':4, 'cat':4}\n",
    "animals['spider'] = 8\n",
    "print(animals)\n",
    "\n",
    "animals.update({'whale':2})\n",
    "print(animals)"
   ]
  },
  {
   "cell_type": "markdown",
   "id": "naughty-vintage",
   "metadata": {},
   "source": [
    "### - 수정하기: { }['key'] = new value, update"
   ]
  },
  {
   "cell_type": "code",
   "execution_count": 79,
   "id": "loved-greenhouse",
   "metadata": {},
   "outputs": [
    {
     "name": "stdout",
     "output_type": "stream",
     "text": [
      "{'chicken': 2, 'dog': 4, 'cat': 4, 'spider': 8, 'whale': '?'}\n",
      "{'chicken': 2, 'dog': 4, 'cat': 4, 'spider': 8, 'whale': 0}\n"
     ]
    }
   ],
   "source": [
    "animals['whale'] = '?'\n",
    "print(animals)\n",
    "\n",
    "animals.update({'whale':0})\n",
    "print(animals)"
   ]
  },
  {
   "cell_type": "markdown",
   "id": "classical-montreal",
   "metadata": {},
   "source": [
    "### - 삭제하기: del, pop"
   ]
  },
  {
   "cell_type": "code",
   "execution_count": 80,
   "id": "accessory-crown",
   "metadata": {},
   "outputs": [
    {
     "name": "stdout",
     "output_type": "stream",
     "text": [
      "{'chicken': 2, 'dog': 4, 'cat': 4, 'spider': 8}\n",
      "4\n",
      "{'chicken': 2, 'dog': 4, 'spider': 8}\n"
     ]
    }
   ],
   "source": [
    "del animals['whale']\n",
    "print(animals)\n",
    "\n",
    "pop_ = animals.pop('cat')\n",
    "print(pop_)\n",
    "print(animals)"
   ]
  },
  {
   "cell_type": "markdown",
   "id": "english-detection",
   "metadata": {},
   "source": [
    "## 연습문제"
   ]
  },
  {
   "cell_type": "markdown",
   "id": "architectural-chemical",
   "metadata": {},
   "source": [
    "### 영화진흥위원회 출처의 일별 박스오피스 데이터인 위계가 있는 딕셔너리를 다음과 같이 변수 boxOffice에 담았다."
   ]
  },
  {
   "cell_type": "code",
   "execution_count": 13,
   "id": "aggregate-minority",
   "metadata": {},
   "outputs": [
    {
     "name": "stdout",
     "output_type": "stream",
     "text": [
      "<class 'dict'>\n"
     ]
    }
   ],
   "source": [
    "import requests\n",
    "URL='https://raw.githubusercontent.com/algoboni/pythoncodebook_visual1/main/data/1-2_boxOffice.json'\n",
    "r = requests.get(URL)\n",
    "boxOffice = r.json()['boxOfficeResult']\n",
    "print(type(boxOffice))"
   ]
  },
  {
   "cell_type": "markdown",
   "id": "filled-saying",
   "metadata": {},
   "source": [
    "### 1. 딕셔너리 boxOffice의 키의 개수와 키들을 출력하시오."
   ]
  },
  {
   "cell_type": "code",
   "execution_count": null,
   "id": "administrative-final",
   "metadata": {},
   "outputs": [],
   "source": []
  },
  {
   "cell_type": "markdown",
   "id": "graphic-ratio",
   "metadata": {},
   "source": [
    "### 2. 딕셔너리 boxOffice의 키인 'showRange'의 값을 출력하시오."
   ]
  },
  {
   "cell_type": "code",
   "execution_count": null,
   "id": "alien-length",
   "metadata": {},
   "outputs": [],
   "source": []
  },
  {
   "cell_type": "markdown",
   "id": "expensive-respondent",
   "metadata": {},
   "source": [
    "### 3. 딕셔너리 boxOffice의 키인 'showRange'의 값을 시작날짜와 종료날짜를 요소로 갖는 리스트(ex: ['20231225', '20231225'])로 수정하여 딕셔너리에 적용한 후, 2번 문제와 동일한 방법으로 값을 출력하시오."
   ]
  },
  {
   "cell_type": "code",
   "execution_count": null,
   "id": "alone-palestine",
   "metadata": {},
   "outputs": [],
   "source": []
  },
  {
   "cell_type": "markdown",
   "id": "emerging-machine",
   "metadata": {},
   "source": [
    "### 4. 딕셔너리 boxOffice의 키인 'dailyBoxOfficeList'의 값을 dboList라는 변수에 담고, 해당 변수의 크기와 데이터 타입을 출력하시오."
   ]
  },
  {
   "cell_type": "code",
   "execution_count": null,
   "id": "proprietary-shuttle",
   "metadata": {},
   "outputs": [],
   "source": []
  },
  {
   "cell_type": "markdown",
   "id": "million-qualification",
   "metadata": {},
   "source": [
    "### 5. 리스트 dboList의 마지막 요소를 추출하고 dict()를 적용하여 변수 dict11에 담으시오. 또한, 딕셔너리 dict11을 다음과 같이 편집한 후 출력하시오.\n",
    "- key 'rnum'의 값을 '11'로 수정\n",
    "- key 'rank'의 값을 '11'로 수정\n",
    "- key 'movieNm'의 값을 '알고보는 영화'로 수정\n",
    "- key 'audiCnt'의 값을 '4300'으로 수정"
   ]
  },
  {
   "cell_type": "code",
   "execution_count": null,
   "id": "stunning-munich",
   "metadata": {},
   "outputs": [],
   "source": []
  },
  {
   "cell_type": "markdown",
   "id": "democratic-passing",
   "metadata": {},
   "source": [
    "### 6. 딕셔너리 dict11의 모든 값에 일괄적으로 '**'를 추가한 후, dict11을 출력하시오."
   ]
  },
  {
   "cell_type": "code",
   "execution_count": null,
   "id": "substantial-standard",
   "metadata": {},
   "outputs": [],
   "source": []
  },
  {
   "cell_type": "markdown",
   "id": "secondary-sunrise",
   "metadata": {},
   "source": [
    "### 7. 리스트 dboList의 첫번째 요소의 키와 값들을 추출하여 각각 KEYS, VALUES라는 변수에 담아 출력하시오."
   ]
  },
  {
   "cell_type": "code",
   "execution_count": null,
   "id": "sustained-vehicle",
   "metadata": {},
   "outputs": [],
   "source": []
  },
  {
   "cell_type": "markdown",
   "id": "normal-hearing",
   "metadata": {},
   "source": [
    "### 8. 앞서 생성한 변수 KEYS와 VALUES의 요소들의 맨 앞에 각각 일괄적으로 'ex) '를 추가한 결과를 각각 KEYS2와 VALUES2에 담고, 이를 키와 값으로 갖는 딕셔너리 dict12를 생성하여 출력하시오."
   ]
  },
  {
   "cell_type": "code",
   "execution_count": null,
   "id": "intimate-college",
   "metadata": {},
   "outputs": [],
   "source": []
  },
  {
   "cell_type": "markdown",
   "id": "proof-hands",
   "metadata": {},
   "source": [
    "### 9. 딕셔너리 boxOffice의 키인 'dailyBoxOfficeList'의 값의 구조를 다음과 같이 하나의 딕셔너리 형태로 변환하여 변수 new_dict에 담고 출력하시오.\n",
    "{'rnum': ['1', '2', ..., '10'],  \n",
    "'rank': ['1', '2', ..., '10'], ...  \n",
    "'showCnt': ['6783', '4657', ... '61'}"
   ]
  },
  {
   "cell_type": "code",
   "execution_count": null,
   "id": "federal-bottom",
   "metadata": {},
   "outputs": [],
   "source": []
  }
 ],
 "metadata": {
  "kernelspec": {
   "display_name": "Python 3",
   "language": "python",
   "name": "python3"
  },
  "language_info": {
   "codemirror_mode": {
    "name": "ipython",
    "version": 3
   },
   "file_extension": ".py",
   "mimetype": "text/x-python",
   "name": "python",
   "nbconvert_exporter": "python",
   "pygments_lexer": "ipython3",
   "version": "3.8.8"
  },
  "toc-showmarkdowntxt": false,
  "toc-showtags": false
 },
 "nbformat": 4,
 "nbformat_minor": 5
}

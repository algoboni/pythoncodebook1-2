{
 "cells": [
  {
   "cell_type": "markdown",
   "id": "aggregate-columbus",
   "metadata": {
    "editable": true,
    "slideshow": {
     "slide_type": ""
    },
    "tags": []
   },
   "source": [
    "# <핵심만 요약한 데이터 조작과 시각화 파이썬 코드북>\n",
    "**각 코드를 설명하는 주석과 연습문제 풀이는 도서에서 확인**할 수 있습니다. 성공적인 학습을 응원합니다.\n",
    "- ⓒ2024 AlgoBoni all rights reserved.\n",
    "- 본 컨텐츠의 저작권은 알고보니에 있습니다. 저작권법에 의해 보호를 받는 저작물이므로 무단 전재와 무단 복제를 금합니다.\n",
    "- 본 컨텐츠의 종이책은 [교보문고](https://product.kyobobook.co.kr/detail/S000213616715), [예스24](https://www.yes24.com/Product/Goods/128117125), [알라딘](https://www.aladin.co.kr/shop/wproduct.aspx?ItemId=341725290)에서 구매할 수 있습니다."
   ]
  },
  {
   "cell_type": "markdown",
   "id": "dressed-retail",
   "metadata": {},
   "source": [
    "## 3장. 배열"
   ]
  },
  {
   "cell_type": "markdown",
   "id": "smaller-source",
   "metadata": {},
   "source": [
    "### 3-1. 배열 만들기: array, zeros, ones, arange, randint"
   ]
  },
  {
   "cell_type": "code",
   "execution_count": 23,
   "id": "built-configuration",
   "metadata": {},
   "outputs": [
    {
     "name": "stdout",
     "output_type": "stream",
     "text": [
      "[1 2 3 4 5]\n",
      ">>> type:  <class 'numpy.ndarray'>\n"
     ]
    }
   ],
   "source": [
    "import numpy as np\n",
    "array1 = np.array([1,2,3,4,5])\n",
    "print(array1)\n",
    "print(\">>> type: \", type(array1))"
   ]
  },
  {
   "cell_type": "code",
   "execution_count": 24,
   "id": "manufactured-highway",
   "metadata": {},
   "outputs": [
    {
     "name": "stdout",
     "output_type": "stream",
     "text": [
      "[0. 0. 0. 0. 0.]\n",
      "[[1. 1. 1.]\n",
      " [1. 1. 1.]]\n"
     ]
    }
   ],
   "source": [
    "array2 = np.zeros(5) \n",
    "print(array2)\n",
    "\n",
    "array3 = np.ones((2,3)) \n",
    "print(array3)"
   ]
  },
  {
   "cell_type": "code",
   "execution_count": 25,
   "id": "dutch-moisture",
   "metadata": {},
   "outputs": [
    {
     "name": "stdout",
     "output_type": "stream",
     "text": [
      "[-2 -1  0  1  2  3  4  5  6  7  8]\n",
      "[-2  0  2  4  6  8]\n"
     ]
    }
   ],
   "source": [
    "array4 = np.arange(-2,9,1) \n",
    "print(array4)\n",
    "\n",
    "array5 = np.arange(-2,9,2) \n",
    "print(array5)"
   ]
  },
  {
   "cell_type": "code",
   "execution_count": 26,
   "id": "creative-joint",
   "metadata": {},
   "outputs": [
    {
     "name": "stdout",
     "output_type": "stream",
     "text": [
      "[ 34  65 -10 -32 -52]\n"
     ]
    }
   ],
   "source": [
    "array6 = np.random.randint(-100,100,5) \n",
    "print(array6)"
   ]
  },
  {
   "cell_type": "markdown",
   "id": "infinite-japan",
   "metadata": {},
   "source": [
    "### 3-2. 배열 저장하기 및 불러오기: save, load"
   ]
  },
  {
   "cell_type": "code",
   "execution_count": 27,
   "id": "devoted-grill",
   "metadata": {},
   "outputs": [
    {
     "name": "stdout",
     "output_type": "stream",
     "text": [
      "[ 34  65 -10 -32 -52]\n"
     ]
    }
   ],
   "source": [
    "np.save('array6.npy', array6)\n",
    "loaded = np.load('array6.npy')\n",
    "print(loaded)"
   ]
  },
  {
   "cell_type": "markdown",
   "id": "hawaiian-infrastructure",
   "metadata": {},
   "source": [
    "### 3-3. 배열 요소 추출하기\n",
    "### - 인덱싱과 슬라이싱"
   ]
  },
  {
   "cell_type": "code",
   "execution_count": 28,
   "id": "located-ukraine",
   "metadata": {},
   "outputs": [
    {
     "name": "stdout",
     "output_type": "stream",
     "text": [
      "[ 10  20  30  40  50  60  70  80  90 100] \n",
      "\n",
      "10\n",
      "100\n",
      "[20 30 40 50 60]\n",
      "[20 40 60]\n",
      "[ 20  40  60  80 100]\n",
      "[ 70  80  90 100]\n"
     ]
    }
   ],
   "source": [
    "num_array = np.arange(10, 110, 10)\n",
    "print(num_array, \"\\n\")\n",
    "\n",
    "print(num_array[0])\n",
    "print(num_array[-1])\n",
    "print(num_array[1:6])\n",
    "print(num_array[1:6:2])\n",
    "print(num_array[1::2])\n",
    "print(num_array[6:])"
   ]
  },
  {
   "cell_type": "markdown",
   "id": "quarterly-prairie",
   "metadata": {},
   "source": [
    "### - 최솟값 및 최댓값의 인덱스 추출: argmin, argmax"
   ]
  },
  {
   "cell_type": "code",
   "execution_count": 30,
   "id": "american-rally",
   "metadata": {},
   "outputs": [
    {
     "name": "stdout",
     "output_type": "stream",
     "text": [
      "[ 10  20  30  40  50  60  70  80  90 100]\n",
      "0 9\n"
     ]
    }
   ],
   "source": [
    "num_array = np.arange(10, 110, 10)\n",
    "print(num_array)\n",
    "\n",
    "MIN, MAX = np.argmin(num_array), np.argmax(num_array)\n",
    "print(MIN, MAX)"
   ]
  },
  {
   "cell_type": "markdown",
   "id": "specified-overhead",
   "metadata": {},
   "source": [
    "### - 조건을 만족하는 요소의 인덱스 추출: where, any, all"
   ]
  },
  {
   "cell_type": "code",
   "execution_count": 36,
   "id": "dense-simulation",
   "metadata": {},
   "outputs": [
    {
     "name": "stdout",
     "output_type": "stream",
     "text": [
      "[ 10  20  30  40  50  60  70  80  90 100]\n",
      "(array([4, 5, 6, 7, 8, 9]),)\n",
      "[ 50  60  70  80  90 100]\n"
     ]
    }
   ],
   "source": [
    "num_array = np.arange(10, 110, 10)\n",
    "print(num_array)\n",
    "\n",
    "idx1 = np.where(num_array >= 50) \n",
    "print(idx1) \n",
    "\n",
    "print(num_array[idx1])"
   ]
  },
  {
   "cell_type": "code",
   "execution_count": 37,
   "id": "dedicated-journalism",
   "metadata": {},
   "outputs": [
    {
     "name": "stdout",
     "output_type": "stream",
     "text": [
      "[0.1 0.2 0.3 0.4 5.  0.6 0.7 0.8 0.9 1. ]\n"
     ]
    }
   ],
   "source": [
    "result1 = np.where(num_array!=50, num_array*0.01, 5) \n",
    "print(result1)"
   ]
  },
  {
   "cell_type": "code",
   "execution_count": 38,
   "id": "stopped-madison",
   "metadata": {},
   "outputs": [
    {
     "name": "stdout",
     "output_type": "stream",
     "text": [
      "True\n",
      "False\n"
     ]
    }
   ],
   "source": [
    "print(np.any(num_array > 80))\n",
    "print(np.all(num_array > 80))"
   ]
  },
  {
   "cell_type": "markdown",
   "id": "signed-pharmaceutical",
   "metadata": {},
   "source": [
    "### 3-4. 배열 편집하기"
   ]
  },
  {
   "cell_type": "markdown",
   "id": "fresh-theater",
   "metadata": {},
   "source": [
    "### - 추가하기: append, insert"
   ]
  },
  {
   "cell_type": "code",
   "execution_count": 61,
   "id": "heavy-particle",
   "metadata": {},
   "outputs": [
    {
     "name": "stdout",
     "output_type": "stream",
     "text": [
      "[10 20 30 40 50 60]\n",
      "[10 20 30 40 50 70 80]\n",
      "[ 1 10 20 30 40 50]\n"
     ]
    }
   ],
   "source": [
    "import numpy as np\n",
    "numbers = np.array([10, 20, 30, 40, 50])\n",
    "\n",
    "numbers1 = np.append(numbers, 60) \n",
    "print(numbers1)\n",
    "\n",
    "numbers2 = np.append(numbers, [70, 80]) \n",
    "print(numbers2)\n",
    "\n",
    "numbers3 = np.insert(numbers, 0, 1) \n",
    "print(numbers3)"
   ]
  },
  {
   "cell_type": "code",
   "execution_count": 65,
   "id": "thousand-launch",
   "metadata": {},
   "outputs": [
    {
     "name": "stdout",
     "output_type": "stream",
     "text": [
      "['10' '20' '30' '40' '50' 'a']\n",
      "[10.  20.  30.  40.  50.   0.1]\n"
     ]
    }
   ],
   "source": [
    "numbers = np.array([10, 20, 30, 40, 50])\n",
    "numbers_str = np.append(numbers, 'a')\n",
    "print(numbers_str) \n",
    "\n",
    "numbers_float = np.append(numbers, 0.1)\n",
    "print(numbers_float)"
   ]
  },
  {
   "cell_type": "markdown",
   "id": "manual-hospital",
   "metadata": {},
   "source": [
    "### - 수정하기: 인덱싱과 슬라이싱"
   ]
  },
  {
   "cell_type": "code",
   "execution_count": 72,
   "id": "worse-harvey",
   "metadata": {},
   "outputs": [
    {
     "name": "stdout",
     "output_type": "stream",
     "text": [
      "[ 1 20 30 40 50]\n",
      "[ 1 20 30 40  5]\n",
      "[ 1 20 30  0  0]\n"
     ]
    }
   ],
   "source": [
    "numbers = np.array([10, 20, 30, 40, 50])\n",
    "\n",
    "numbers[0] = 1\n",
    "print(numbers)\n",
    "\n",
    "numbers[-1] = 5 \n",
    "print(numbers)\n",
    "\n",
    "numbers[3:] = 0\n",
    "print(numbers)"
   ]
  },
  {
   "cell_type": "markdown",
   "id": "driven-thomson",
   "metadata": {},
   "source": [
    "### - 삭제하기: delete, unique"
   ]
  },
  {
   "cell_type": "code",
   "execution_count": 79,
   "id": "limiting-highway",
   "metadata": {},
   "outputs": [
    {
     "name": "stdout",
     "output_type": "stream",
     "text": [
      "[10 20 30 40 50]\n",
      "[20 30 40 50]\n"
     ]
    }
   ],
   "source": [
    "numbers = np.array([10, 20, 30, 40, 50])\n",
    "print(numbers)\n",
    "\n",
    "del_numbers = np.delete(numbers, 0) \n",
    "print(del_numbers)"
   ]
  },
  {
   "cell_type": "code",
   "execution_count": 85,
   "id": "surprised-catalyst",
   "metadata": {},
   "outputs": [
    {
     "name": "stdout",
     "output_type": "stream",
     "text": [
      "[[1 2 3]\n",
      " [4 5 6]\n",
      " [7 8 9]] \n",
      "\n",
      "[[4 5 6]\n",
      " [7 8 9]] \n",
      "\n",
      "[[2 3]\n",
      " [5 6]\n",
      " [8 9]]\n"
     ]
    }
   ],
   "source": [
    "array2d = np.array([[1, 2, 3], [4, 5, 6], [7, 8, 9]])\n",
    "print(array2d, \"\\n\")\n",
    "\n",
    "del_array2d1 = np.delete(array2d, 0, axis=0) \n",
    "print(del_array2d1, \"\\n\")\n",
    "\n",
    "del_array2d2 = np.delete(array2d, 0, axis=1) \n",
    "print(del_array2d2)"
   ]
  },
  {
   "cell_type": "code",
   "execution_count": 86,
   "id": "considerable-devon",
   "metadata": {},
   "outputs": [
    {
     "name": "stdout",
     "output_type": "stream",
     "text": [
      "[1 1 1 2 3 4 5 5 6]\n",
      "[1 2 3 4 5 6] \n",
      "\n",
      "[1 2 3 4 5 6]\n",
      "[3 1 1 1 2 1]\n"
     ]
    }
   ],
   "source": [
    "numbers = np.array([1,1,1,2,3,4,5,5,6])\n",
    "print(numbers)\n",
    "print(np.unique(numbers), '\\n')\n",
    "\n",
    "result, count = np.unique(numbers, return_counts=True)\n",
    "print(result) \n",
    "print(count)"
   ]
  },
  {
   "cell_type": "markdown",
   "id": "italian-chicken",
   "metadata": {},
   "source": [
    "### 3-5. 배열 재구조화: shape, reshape, T(transpose)"
   ]
  },
  {
   "cell_type": "code",
   "execution_count": 45,
   "id": "cutting-lease",
   "metadata": {},
   "outputs": [
    {
     "name": "stdout",
     "output_type": "stream",
     "text": [
      "numbers.shape  (6,)\n",
      "array2d.shape  (2, 6)\n"
     ]
    }
   ],
   "source": [
    "import numpy as np\n",
    "numbers = np.array([10, 20, 30, 40, 50, 60])\n",
    "array2d = np.array([[1, 2, 3, 4, 5, 6], [7, 8, 9, 10, 11, 12]])\n",
    "print(\"numbers.shape \", numbers.shape) \n",
    "print(\"array2d.shape \", array2d.shape) "
   ]
  },
  {
   "cell_type": "code",
   "execution_count": 37,
   "id": "iraqi-batman",
   "metadata": {},
   "outputs": [
    {
     "name": "stdout",
     "output_type": "stream",
     "text": [
      "[[10 20 30]\n",
      " [40 50 60]] \n",
      "\n",
      "[[10 20 30 40 50 60]] \n",
      "\n",
      "[10 20 30 40 50 60]\n"
     ]
    }
   ],
   "source": [
    "reshape_numbers1 = numbers.reshape(2, 3) \n",
    "print(reshape_numbers1, '\\n')\n",
    "reshape_numbers2 = numbers.reshape(1, -1) \n",
    "print(reshape_numbers2, '\\n')\n",
    "reshape_numbers3 = reshape_numbers1.ravel() \n",
    "print(reshape_numbers3)"
   ]
  },
  {
   "cell_type": "code",
   "execution_count": 47,
   "id": "unexpected-bouquet",
   "metadata": {},
   "outputs": [
    {
     "name": "stdout",
     "output_type": "stream",
     "text": [
      "[[ 1  2  3]\n",
      " [ 4  5  6]\n",
      " [ 7  8  9]\n",
      " [10 11 12]] \n",
      "\n",
      "[[ 1  2  3]\n",
      " [ 4  5  6]\n",
      " [ 7  8  9]\n",
      " [10 11 12]] \n",
      "\n",
      "[[[ 1  2]\n",
      "  [ 3  4]]\n",
      "\n",
      " [[ 5  6]\n",
      "  [ 7  8]]\n",
      "\n",
      " [[ 9 10]\n",
      "  [11 12]]] \n",
      "\n",
      "[[[ 1  2]\n",
      "  [ 3  4]]\n",
      "\n",
      " [[ 5  6]\n",
      "  [ 7  8]]\n",
      "\n",
      " [[ 9 10]\n",
      "  [11 12]]]\n"
     ]
    }
   ],
   "source": [
    "array2d = np.array([[1, 2, 3, 4, 5, 6], [7, 8, 9, 10, 11, 12]])\n",
    "reshape_array2d1 = array2d.reshape(4, -1) \n",
    "print(reshape_array2d1, '\\n')\n",
    "\n",
    "reshape_array2d2 = array2d.reshape(4, 3)\n",
    "print(reshape_array2d2, '\\n')\n",
    "\n",
    "reshape_array2d3 = array2d.reshape(-1, 2, 2) \n",
    "print(reshape_array2d3, '\\n')\n",
    "\n",
    "reshape_array2d4 = array2d.reshape(3, 2, 2) \n",
    "print(reshape_array2d4)"
   ]
  },
  {
   "cell_type": "code",
   "execution_count": 48,
   "id": "pharmaceutical-tutorial",
   "metadata": {},
   "outputs": [
    {
     "name": "stdout",
     "output_type": "stream",
     "text": [
      "[[ 1  2  3  4  5  6]\n",
      " [ 7  8  9 10 11 12]] \n",
      "\n",
      "[[ 1  7]\n",
      " [ 2  8]\n",
      " [ 3  9]\n",
      " [ 4 10]\n",
      " [ 5 11]\n",
      " [ 6 12]]\n"
     ]
    }
   ],
   "source": [
    "print(array2d, '\\n')\n",
    "print(array2d.T)"
   ]
  },
  {
   "cell_type": "markdown",
   "id": "abstract-swaziland",
   "metadata": {},
   "source": [
    "### 3-6. 배열 연결하기: concatenate, c_, r_, hstack, vstack"
   ]
  },
  {
   "cell_type": "code",
   "execution_count": 86,
   "id": "handy-liberal",
   "metadata": {},
   "outputs": [
    {
     "name": "stdout",
     "output_type": "stream",
     "text": [
      "[[1 2]\n",
      " [3 6]] \n",
      "\n",
      "[[3 9]] \n",
      "\n",
      "[[3]\n",
      " [9]]\n"
     ]
    }
   ],
   "source": [
    "array2d1 = np.array([[1, 2], [3, 6]]) \n",
    "array2d2 = np.array([[3, 9]])\n",
    "print(array2d1, '\\n')\n",
    "print(array2d2, '\\n')\n",
    "print(array2d2.T)"
   ]
  },
  {
   "cell_type": "code",
   "execution_count": 87,
   "id": "second-maine",
   "metadata": {},
   "outputs": [
    {
     "name": "stdout",
     "output_type": "stream",
     "text": [
      "(2, 2) (1, 2)\n",
      "[[1 2]\n",
      " [3 6]\n",
      " [3 9]]\n"
     ]
    }
   ],
   "source": [
    "print(array2d1.shape, array2d2.shape)\n",
    "combined1 = np.concatenate((array2d1, array2d2), axis=0) \n",
    "print(combined1)"
   ]
  },
  {
   "cell_type": "code",
   "execution_count": 88,
   "id": "moving-spyware",
   "metadata": {},
   "outputs": [
    {
     "name": "stdout",
     "output_type": "stream",
     "text": [
      "(2, 2) (2, 1)\n",
      "[[1 2 3]\n",
      " [3 6 9]]\n"
     ]
    }
   ],
   "source": [
    "print(array2d1.shape, array2d2.T.shape)\n",
    "combined2 = np.concatenate((array2d1, array2d2.T), axis=1)\n",
    "print(combined2)"
   ]
  },
  {
   "cell_type": "code",
   "execution_count": 91,
   "id": "blind-austin",
   "metadata": {},
   "outputs": [
    {
     "name": "stdout",
     "output_type": "stream",
     "text": [
      "c_\n",
      " [[1 2 3]\n",
      " [3 6 9]]\n",
      "r_\n",
      " [[1 2]\n",
      " [3 6]\n",
      " [3 9]]\n"
     ]
    }
   ],
   "source": [
    "c_ = np.c_[array2d1, array2d2.T]\n",
    "r_ = np.r_[array2d1, array2d2]\n",
    "print(\"c_\\n\", c_)\n",
    "print(\"r_\\n\", r_)"
   ]
  },
  {
   "cell_type": "code",
   "execution_count": 92,
   "id": "seven-folder",
   "metadata": {},
   "outputs": [
    {
     "name": "stdout",
     "output_type": "stream",
     "text": [
      "hstack_\n",
      " [[1 2 3]\n",
      " [3 6 9]]\n",
      "vstack_\n",
      " [[1 2]\n",
      " [3 6]\n",
      " [3 9]]\n"
     ]
    }
   ],
   "source": [
    "hstack = np.hstack((array2d1, array2d2.T)) \n",
    "vstack = np.vstack((array2d1, array2d2))\n",
    "print(\"hstack_\\n\", hstack)\n",
    "print(\"vstack_\\n\", vstack)"
   ]
  },
  {
   "cell_type": "markdown",
   "id": "moral-consultation",
   "metadata": {},
   "source": [
    "### 3-7. 배열과 유용한 함수들\n",
    "### - 통계: sum, mean, min, max, std, var, median, percentile, cumsum, cumprod"
   ]
  },
  {
   "cell_type": "code",
   "execution_count": 93,
   "id": "incomplete-celtic",
   "metadata": {},
   "outputs": [
    {
     "name": "stdout",
     "output_type": "stream",
     "text": [
      "[1 2 3 4 5 6 7 8 9]\n",
      "합 45\n",
      "평균 5.0\n",
      "최솟값 1\n",
      "최댓값 9\n",
      "표준편차 2.581988897471611\n",
      "분산 6.666666666666667\n",
      "중앙값 5.0\n",
      "백분위수 7.0\n",
      "누적합 [ 1  3  6 10 15 21 28 36 45]\n",
      "누적곱 [     1      2      6     24    120    720   5040  40320 362880]\n"
     ]
    }
   ],
   "source": [
    "numbers = np.arange(1,10)\n",
    "print(numbers)\n",
    "\n",
    "print('합', np.sum(numbers))\n",
    "print('평균', np.mean(numbers))\n",
    "print('최솟값', np.min(numbers))\n",
    "print('최댓값', np.max(numbers))\n",
    "print('표준편차', np.std(numbers))\n",
    "print('분산', np.var(numbers))\n",
    "print('중앙값', np.median(numbers))\n",
    "print('백분위수', np.percentile(numbers, 75))\n",
    "print('누적합', np.cumsum(numbers))\n",
    "print('누적곱', np.cumprod(numbers))"
   ]
  },
  {
   "cell_type": "markdown",
   "id": "drawn-monkey",
   "metadata": {},
   "source": [
    "### - 절댓값, 제곱, 제곱근: abs, power, sqrt"
   ]
  },
  {
   "cell_type": "code",
   "execution_count": 95,
   "id": "exotic-fifteen",
   "metadata": {},
   "outputs": [
    {
     "name": "stdout",
     "output_type": "stream",
     "text": [
      "[-10  -7  -4  -1   2   5   8]\n",
      "절댓값 [10  7  4  1  2  5  8]\n",
      "제곱 [100  49  16   1   4  25  64] [100  49  16   1   4  25  64]\n",
      "(양의)제곱근 [10.  7.  4.  1.  2.  5.  8.] [10.  7.  4.  1.  2.  5.  8.]\n"
     ]
    }
   ],
   "source": [
    "numbers = np.arange(-10, 11, 3)\n",
    "print(numbers)\n",
    "\n",
    "print(\"절댓값\", np.abs(numbers))\n",
    "print(\"제곱\", numbers**2, np.power(numbers, 2))\n",
    "print(\"(양의)제곱근\", (numbers**2)**(1/2), np.sqrt(numbers**2))"
   ]
  },
  {
   "cell_type": "markdown",
   "id": "efficient-junior",
   "metadata": {},
   "source": [
    "### - 반올림, 올림, 버림: round, ceil, floor"
   ]
  },
  {
   "cell_type": "code",
   "execution_count": 96,
   "id": "convertible-dinner",
   "metadata": {},
   "outputs": [
    {
     "name": "stdout",
     "output_type": "stream",
     "text": [
      "[-1.   -0.45  0.1   0.65  1.2   1.75  2.3   2.85]\n",
      "반올림 [-1.  -0.4  0.1  0.7  1.2  1.8  2.3  2.9]\n",
      "올림 [-1. -0.  1.  1.  2.  2.  3.  3.]\n",
      "버림 [-1. -1.  0.  0.  1.  1.  2.  2.]\n"
     ]
    }
   ],
   "source": [
    "numbers = np.arange(-1, 3, 0.55)\n",
    "print(numbers)\n",
    "\n",
    "print('반올림', np.round(numbers, 1)) \n",
    "print('올림', np.ceil(numbers)) \n",
    "print('버림', np.floor(numbers))"
   ]
  },
  {
   "cell_type": "markdown",
   "id": "norwegian-architect",
   "metadata": {},
   "source": [
    "### - 지수와 로그: exp, log, log10"
   ]
  },
  {
   "cell_type": "code",
   "execution_count": 98,
   "id": "forward-freeze",
   "metadata": {},
   "outputs": [
    {
     "name": "stdout",
     "output_type": "stream",
     "text": [
      "[   10   100  1000 10000]\n",
      "자연로그 [2.30258509 4.60517019 6.90775528 9.21034037]\n",
      "지수(지수표기법) [1.e+01 1.e+02 1.e+03 1.e+04]\n",
      "지수(정수출력) [   10.   100.  1000. 10000.]\n",
      "상용로그 [1. 2. 3. 4.]\n"
     ]
    }
   ],
   "source": [
    "numbers = np.array([10, 100, 1000, 10000])\n",
    "print(numbers)\n",
    "\n",
    "print(\"자연로그\", np.log(numbers))\n",
    "print(\"지수(지수표기법)\", np.exp(np.log(numbers))) \n",
    "\n",
    "np.set_printoptions(suppress=True) \n",
    "print(\"지수(정수출력)\", np.exp(np.log(numbers)))\n",
    "print(\"상용로그\", np.log10(numbers))"
   ]
  },
  {
   "cell_type": "markdown",
   "id": "fitting-dakota",
   "metadata": {},
   "source": [
    "### - 스칼라곱, 배열의 요소별 곱, 행렬곱"
   ]
  },
  {
   "cell_type": "code",
   "execution_count": 100,
   "id": "gross-pierce",
   "metadata": {},
   "outputs": [
    {
     "name": "stdout",
     "output_type": "stream",
     "text": [
      "[[1 2 3]\n",
      " [4 5 6]\n",
      " [7 8 9]]\n",
      "[[1]\n",
      " [2]\n",
      " [3]] \n",
      "\n",
      ">>> array33 x 10\n",
      "[[10 20 30]\n",
      " [40 50 60]\n",
      " [70 80 90]] \n",
      "\n",
      ">>> array33 x array31\n",
      "[[ 1  2  3]\n",
      " [ 8 10 12]\n",
      " [21 24 27]] \n",
      "\n",
      ">>> array33 dot array31\n",
      "[[14]\n",
      " [32]\n",
      " [50]]\n"
     ]
    }
   ],
   "source": [
    "array33 = np.arange(1,10).reshape(3,3) \n",
    "array31 = np.arange(1,4).reshape(-1,1) \n",
    "print(array33)\n",
    "print(array31, \"\\n\")\n",
    "\n",
    "print(\">>> array33 x 10\")\n",
    "result1 = array33 * 10\n",
    "print(result1, \"\\n\")\n",
    "\n",
    "print(\">>> array33 x array31\")\n",
    "result2 = array33 * array31 \n",
    "print(result2, '\\n')\n",
    "\n",
    "print(\">>> array33 dot array31\")\n",
    "result3 = np.dot(array33, array31) \n",
    "print(result3)"
   ]
  },
  {
   "cell_type": "markdown",
   "id": "proprietary-channel",
   "metadata": {},
   "source": [
    "## 연습문제"
   ]
  },
  {
   "cell_type": "markdown",
   "id": "german-george",
   "metadata": {},
   "source": [
    "### 1. 1 이상 100 미만의 정수 중 랜덤으로 추출한 50개의 요소를 포함하는 1차원 배열 array1을 생성하고 출력하시오. (단, 랜덤 시드는 0으로 고정한다)"
   ]
  },
  {
   "cell_type": "code",
   "execution_count": null,
   "id": "wrong-diagram",
   "metadata": {},
   "outputs": [],
   "source": []
  },
  {
   "cell_type": "markdown",
   "id": "unlikely-lesbian",
   "metadata": {},
   "source": [
    "### 2. 앞서 생성한 배열 array1의 형태를 5행 10열로 재구조화한 배열 array2를 생성하고 출력하시오."
   ]
  },
  {
   "cell_type": "code",
   "execution_count": null,
   "id": "innocent-floating",
   "metadata": {},
   "outputs": [],
   "source": []
  },
  {
   "cell_type": "markdown",
   "id": "charitable-heading",
   "metadata": {},
   "source": [
    "### 3. array1의 최댓값과 그 인덱스, 최솟값과 그 인덱스를 출력하시오."
   ]
  },
  {
   "cell_type": "code",
   "execution_count": null,
   "id": "worth-prisoner",
   "metadata": {},
   "outputs": [],
   "source": []
  },
  {
   "cell_type": "markdown",
   "id": "optional-practice",
   "metadata": {},
   "source": [
    "### 4. 1 이상 5 이하의 연속된 정수 전체를 요소로 갖는 5행 1열의 배열 array3을 생성하고 출력하시오."
   ]
  },
  {
   "cell_type": "code",
   "execution_count": null,
   "id": "sexual-ultimate",
   "metadata": {},
   "outputs": [],
   "source": []
  },
  {
   "cell_type": "markdown",
   "id": "norman-objective",
   "metadata": {},
   "source": [
    "### 5. array2에 array3을 열 방향으로 연결한 array4를 생성하고 출력하시오."
   ]
  },
  {
   "cell_type": "code",
   "execution_count": null,
   "id": "wicked-watts",
   "metadata": {},
   "outputs": [],
   "source": []
  },
  {
   "cell_type": "markdown",
   "id": "coated-count",
   "metadata": {},
   "source": [
    "### 6. array4에서 값이 20 미만인 요소들의 값과 인덱스와 총 개수를 출력하시오."
   ]
  },
  {
   "cell_type": "code",
   "execution_count": null,
   "id": "different-christianity",
   "metadata": {},
   "outputs": [],
   "source": []
  },
  {
   "cell_type": "markdown",
   "id": "compatible-catch",
   "metadata": {},
   "source": [
    "### 7. array4에서 값이 20 미만인 요소들을 1로 변경한 array5를 생성하여 출력하시오."
   ]
  },
  {
   "cell_type": "code",
   "execution_count": null,
   "id": "interracial-assumption",
   "metadata": {},
   "outputs": [],
   "source": []
  },
  {
   "cell_type": "markdown",
   "id": "heavy-young",
   "metadata": {},
   "source": [
    "### 8. array5에 로그를 취하고 소수점 첫째자리까지 반올림한 배열 array6를 생성하여 출력하시오."
   ]
  },
  {
   "cell_type": "code",
   "execution_count": null,
   "id": "enormous-throat",
   "metadata": {},
   "outputs": [],
   "source": []
  },
  {
   "cell_type": "markdown",
   "id": "medium-formula",
   "metadata": {},
   "source": [
    "### 9. array6의 평균, 표준편차, 1사분위수, 3사분위수를 출력하시오."
   ]
  },
  {
   "cell_type": "code",
   "execution_count": null,
   "id": "collective-period",
   "metadata": {},
   "outputs": [],
   "source": []
  },
  {
   "cell_type": "markdown",
   "id": "criminal-radiation",
   "metadata": {},
   "source": [
    "### 10. array6의 중복된 값을 제거한 배열 array7을 생성하고, array7의 평균, 표준편차, 1사분위수, 3사분위수를 출력하시오."
   ]
  },
  {
   "cell_type": "code",
   "execution_count": null,
   "id": "delayed-inspection",
   "metadata": {},
   "outputs": [],
   "source": []
  }
 ],
 "metadata": {
  "kernelspec": {
   "display_name": "Python 3",
   "language": "python",
   "name": "python3"
  },
  "language_info": {
   "codemirror_mode": {
    "name": "ipython",
    "version": 3
   },
   "file_extension": ".py",
   "mimetype": "text/x-python",
   "name": "python",
   "nbconvert_exporter": "python",
   "pygments_lexer": "ipython3",
   "version": "3.8.8"
  },
  "toc-showmarkdowntxt": false,
  "toc-showtags": false
 },
 "nbformat": 4,
 "nbformat_minor": 5
}
